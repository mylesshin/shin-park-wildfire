{
  "nbformat": 4,
  "nbformat_minor": 0,
  "metadata": {
    "colab": {
      "provenance": [],
      "authorship_tag": "ABX9TyPPdZ79+d4o4vhlWWjfO3fT",
      "include_colab_link": true
    },
    "kernelspec": {
      "name": "python3",
      "display_name": "Python 3"
    },
    "language_info": {
      "name": "python"
    }
  },
  "cells": [
    {
      "cell_type": "markdown",
      "metadata": {
        "id": "view-in-github",
        "colab_type": "text"
      },
      "source": [
        "<a href=\"https://colab.research.google.com/github/mylesshin/shin-park-wildfire/blob/main/Untitled1.ipynb\" target=\"_parent\"><img src=\"https://colab.research.google.com/assets/colab-badge.svg\" alt=\"Open In Colab\"/></a>"
      ]
    },
    {
      "cell_type": "code",
      "execution_count": 26,
      "metadata": {
        "colab": {
          "base_uri": "https://localhost:8080/"
        },
        "id": "9c8lzPgsFiZQ",
        "outputId": "fdd6bef0-affc-4ddf-ff68-94984274ebf0"
      },
      "outputs": [
        {
          "output_type": "stream",
          "name": "stdout",
          "text": [
            "    Polygon_ID    acq_date   frp  Neighbour  Neighbour_frp  CBC2014_max   \n",
            "0         7234  2012-11-06   3.2       7233            0.0         13.0  \\\n",
            "1         7380  2012-11-06   5.1       7233            0.0        100.0   \n",
            "2         7381  2014-11-02   0.9       7233            0.0        100.0   \n",
            "3         7381  2012-11-06   3.2       7233            0.0        100.0   \n",
            "4        15290  2015-11-14  14.6      15437            0.0        100.0   \n",
            "..         ...         ...   ...        ...            ...          ...   \n",
            "95       65027  2015-03-01   4.9      65223            0.0          0.0   \n",
            "96       66037  2013-02-09   8.5      65840            0.0          0.0   \n",
            "97       67032  2013-11-07   3.1      66836            0.0          0.0   \n",
            "98       67029  2018-05-20   3.1      67028            0.0        100.0   \n",
            "99       69780  2014-04-28   3.9      69976            0.0        100.0   \n",
            "\n",
            "    CBC2014_min  CBC2014_median  CBC2014_sum  CBC2014_mode  ...   \n",
            "0           0.0             9.0       1303.0           0.0  ...  \\\n",
            "1           0.0             8.0       1457.0           0.0  ...   \n",
            "2           0.0             9.0       1448.0           0.0  ...   \n",
            "3           0.0             9.0       1448.0           0.0  ...   \n",
            "4           0.0             8.0       1262.0           0.0  ...   \n",
            "..          ...             ...          ...           ...  ...   \n",
            "95          0.0             0.0          0.0           0.0  ...   \n",
            "96          0.0             0.0          0.0           0.0  ...   \n",
            "97          0.0             0.0          0.0           0.0  ...   \n",
            "98          0.0             0.0        100.0           0.0  ...   \n",
            "99          0.0             0.0       1190.0           0.0  ...   \n",
            "\n",
            "    Neighbour_NVC2016_mode  Neighbour_NVC2016_count  Neighbour_NVC2016_mean   \n",
            "0                   7200.0                      169               6111.3906  \\\n",
            "1                   7200.0                      169               6111.3906   \n",
            "2                   7200.0                      169               6111.3906   \n",
            "3                   7200.0                      169               6111.3906   \n",
            "4                   6308.0                      169               6113.2900   \n",
            "..                     ...                      ...                     ...   \n",
            "95                  9301.0                      169               8024.9053   \n",
            "96                  7913.0                      156               7967.9680   \n",
            "97                  9301.0                      156               8798.4360   \n",
            "98                  6331.0                      156               7977.9165   \n",
            "99                  6331.0                      156               7824.9040   \n",
            "\n",
            "    Neighbour_SLP2016_max  Neighbour_SLP2016_min  Neighbour_SLP2016_median   \n",
            "0                    37.0                    3.0                      17.0  \\\n",
            "1                    37.0                    3.0                      17.0   \n",
            "2                    37.0                    3.0                      17.0   \n",
            "3                    37.0                    3.0                      17.0   \n",
            "4                    35.0                    4.0                      25.0   \n",
            "..                    ...                    ...                       ...   \n",
            "95                    3.0                    0.0                       1.0   \n",
            "96                    1.0                    0.0                       0.0   \n",
            "97                    3.0                    0.0                       1.0   \n",
            "98                    7.0                    0.0                       1.0   \n",
            "99                    1.0                    0.0                       0.0   \n",
            "\n",
            "    Neighbour_SLP2016_sum  Neighbour_SLP2016_mode  Neighbour_SLP2016_count   \n",
            "0                  3109.0                    24.0                      169  \\\n",
            "1                  3109.0                    24.0                      169   \n",
            "2                  3109.0                    24.0                      169   \n",
            "3                  3109.0                    24.0                      169   \n",
            "4                  3951.0                    24.0                      169   \n",
            "..                    ...                     ...                      ...   \n",
            "95                  129.0                     0.0                      169   \n",
            "96                   28.0                     0.0                      156   \n",
            "97                  193.0                     0.0                      156   \n",
            "98                  247.0                     0.0                      156   \n",
            "99                   63.0                     0.0                      156   \n",
            "\n",
            "    Neighbour_SLP2016_mean  \n",
            "0                18.396450  \n",
            "1                18.396450  \n",
            "2                18.396450  \n",
            "3                18.396450  \n",
            "4                23.378698  \n",
            "..                     ...  \n",
            "95                0.763314  \n",
            "96                0.179487  \n",
            "97                1.237180  \n",
            "98                1.583333  \n",
            "99                0.403846  \n",
            "\n",
            "[100 rows x 397 columns]\n"
          ]
        },
        {
          "output_type": "execute_result",
          "data": {
            "text/plain": [
              "5"
            ]
          },
          "metadata": {},
          "execution_count": 26
        }
      ],
      "source": [
        "import pandas as pd\n",
        "file_path = 'wildfiredb.csv'\n",
        "\n",
        "# Read only the first row of the CSV file to extract the column names\n",
        "with open(file_path, 'r') as f:\n",
        "    df = pd.read_csv(f, nrows=100)\n",
        "    df = df.dropna()\n",
        "print(df)\n",
        "\n",
        "# Print all the column names in one line\n",
        "# print(', '.join(df.columns))\n",
        "# loading data\n",
        "\n",
        "# preprocessing 1\n",
        "\n",
        "2\n",
        "\n",
        "# save it to gdrive pd.to_csv, pickle, \n",
        "\n",
        "3\n",
        "4\n",
        "5"
      ]
    },
    {
      "cell_type": "code",
      "source": [
        "corr = df['frp'].corr(df['CC2016_mean'])\n",
        "\n",
        "# Print the correlation matrix\n",
        "print(corr)"
      ],
      "metadata": {
        "id": "oVV_9fQ2Ocgv",
        "outputId": "b49f2bbd-973c-4f68-80e8-270653f10c61",
        "colab": {
          "base_uri": "https://localhost:8080/"
        }
      },
      "execution_count": 27,
      "outputs": [
        {
          "output_type": "stream",
          "name": "stdout",
          "text": [
            "-0.09128453220457865\n"
          ]
        }
      ]
    },
    {
      "cell_type": "code",
      "source": [
        "!pip install matplotlib\n"
      ],
      "metadata": {
        "id": "jiorxU32QPIl"
      },
      "execution_count": null,
      "outputs": []
    },
    {
      "cell_type": "code",
      "source": [
        "import pickle\n",
        "\n",
        "a = [1,2,3]\n",
        "\n",
        "# rest of work that I want to save\n",
        "\n",
        "pickle.dump(a, open(\"/content/drive/MyDrive/BigData/mydata.pk\", \"wb\"))"
      ],
      "metadata": {
        "id": "pbwUuca0Gdbm"
      },
      "execution_count": null,
      "outputs": []
    },
    {
      "cell_type": "code",
      "source": [
        "a"
      ],
      "metadata": {
        "colab": {
          "base_uri": "https://localhost:8080/"
        },
        "id": "7D-xEIf1HZt_",
        "outputId": "f0a6ddfa-647f-4d8e-cfd7-e4f4ca1d4bcf"
      },
      "execution_count": null,
      "outputs": [
        {
          "output_type": "execute_result",
          "data": {
            "text/plain": [
              "[1, 2, 3]"
            ]
          },
          "metadata": {},
          "execution_count": 5
        }
      ]
    },
    {
      "cell_type": "code",
      "source": [
        "import pickle\n",
        "\n",
        "a = pickle.load(open(\"/content/drive/MyDrive/BigData/mydata.pk\", \"rb\"))\n",
        "a"
      ],
      "metadata": {
        "colab": {
          "base_uri": "https://localhost:8080/"
        },
        "id": "N-LRyRNqGzlC",
        "outputId": "f78814c1-bc9e-4a9b-f193-00b2a219f4ba"
      },
      "execution_count": null,
      "outputs": [
        {
          "output_type": "execute_result",
          "data": {
            "text/plain": [
              "[1, 2, 3]"
            ]
          },
          "metadata": {},
          "execution_count": 6
        }
      ]
    }
  ]
}