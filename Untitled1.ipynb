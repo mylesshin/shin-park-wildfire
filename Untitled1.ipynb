{
  "nbformat": 4,
  "nbformat_minor": 0,
  "metadata": {
    "colab": {
      "provenance": [],
      "authorship_tag": "ABX9TyOfKWUtAyDCWkHT6CuAbUr4",
      "include_colab_link": true
    },
    "kernelspec": {
      "name": "python3",
      "display_name": "Python 3"
    },
    "language_info": {
      "name": "python"
    }
  },
  "cells": [
    {
      "cell_type": "markdown",
      "metadata": {
        "id": "view-in-github",
        "colab_type": "text"
      },
      "source": [
        "<a href=\"https://colab.research.google.com/github/mylesshin/shin-park-wildfire/blob/main/Untitled1.ipynb\" target=\"_parent\"><img src=\"https://colab.research.google.com/assets/colab-badge.svg\" alt=\"Open In Colab\"/></a>"
      ]
    },
    {
      "cell_type": "code",
      "execution_count": 7,
      "metadata": {
        "colab": {
          "base_uri": "https://localhost:8080/"
        },
        "id": "9c8lzPgsFiZQ",
        "outputId": "fcc1d0d5-5f1c-4496-95bb-fce34662a831"
      },
      "outputs": [
        {
          "output_type": "execute_result",
          "data": {
            "text/plain": [
              "5"
            ]
          },
          "metadata": {},
          "execution_count": 7
        }
      ],
      "source": [
        "import pandas as pd\n",
        "# loading data\n",
        "\n",
        "# preprocessing 1\n",
        "\n",
        "2\n",
        "\n",
        "# save it to gdrive pd.to_csv, pickle, \n",
        "\n",
        "3\n",
        "4\n",
        "5"
      ]
    },
    {
      "cell_type": "code",
      "source": [
        "from google.colab import drive\n",
        "\n",
        "drive.mount(\"/content/drive\")"
      ],
      "metadata": {
        "colab": {
          "base_uri": "https://localhost:8080/"
        },
        "id": "huM7qo41HkCS",
        "outputId": "2baf9cba-a5aa-4d98-fb0a-c715d7ab3421"
      },
      "execution_count": 1,
      "outputs": [
        {
          "output_type": "stream",
          "name": "stdout",
          "text": [
            "Mounted at /content/drive\n"
          ]
        }
      ]
    },
    {
      "cell_type": "code",
      "source": [
        "path = \"/content/drive/MyDrive/BigData/wildfiredb.csv\"\n",
        "df = pd.read_csv(path)"
      ],
      "metadata": {
        "id": "CEjp-Ow3_NSC"
      },
      "execution_count": null,
      "outputs": []
    },
    {
      "cell_type": "code",
      "source": [],
      "metadata": {
        "id": "h1_JoEZsCvmE"
      },
      "execution_count": null,
      "outputs": []
    },
    {
      "cell_type": "code",
      "source": [
        "import pickle\n",
        "\n",
        "a = [1,2,3]\n",
        "\n",
        "# rest of work that I want to save\n",
        "\n",
        "pickle.dump(a, open(\"/content/drive/MyDrive/BigData/mydata.pk\", \"wb\"))"
      ],
      "metadata": {
        "id": "pbwUuca0Gdbm"
      },
      "execution_count": 7,
      "outputs": []
    },
    {
      "cell_type": "code",
      "source": [
        "a"
      ],
      "metadata": {
        "colab": {
          "base_uri": "https://localhost:8080/"
        },
        "id": "7D-xEIf1HZt_",
        "outputId": "f0a6ddfa-647f-4d8e-cfd7-e4f4ca1d4bcf"
      },
      "execution_count": 5,
      "outputs": [
        {
          "output_type": "execute_result",
          "data": {
            "text/plain": [
              "[1, 2, 3]"
            ]
          },
          "metadata": {},
          "execution_count": 5
        }
      ]
    },
    {
      "cell_type": "code",
      "source": [
        "import pickle\n",
        "\n",
        "a = pickle.load(open(\"/content/drive/MyDrive/BigData/mydata.pk\", \"rb\"))\n",
        "a"
      ],
      "metadata": {
        "colab": {
          "base_uri": "https://localhost:8080/"
        },
        "id": "N-LRyRNqGzlC",
        "outputId": "f78814c1-bc9e-4a9b-f193-00b2a219f4ba"
      },
      "execution_count": 6,
      "outputs": [
        {
          "output_type": "execute_result",
          "data": {
            "text/plain": [
              "[1, 2, 3]"
            ]
          },
          "metadata": {},
          "execution_count": 6
        }
      ]
    }
  ]
}