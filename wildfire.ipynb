{
  "nbformat": 4,
  "nbformat_minor": 0,
  "metadata": {
    "colab": {
      "provenance": [],
      "authorship_tag": "ABX9TyNJUseQ+pmtJyJM0wmWYDpA",
      "include_colab_link": true
    },
    "kernelspec": {
      "name": "python3",
      "display_name": "Python 3"
    },
    "language_info": {
      "name": "python"
    }
  },
  "cells": [
    {
      "cell_type": "markdown",
      "metadata": {
        "id": "view-in-github",
        "colab_type": "text"
      },
      "source": [
        "<a href=\"https://colab.research.google.com/github/mylesshin/shin-park-wildfire/blob/main/wildfire.ipynb\" target=\"_parent\"><img src=\"https://colab.research.google.com/assets/colab-badge.svg\" alt=\"Open In Colab\"/></a>"
      ]
    },
    {
      "cell_type": "code",
      "execution_count": 2,
      "metadata": {
        "colab": {
          "base_uri": "https://localhost:8080/"
        },
        "id": "vyQH1D9nq3s3",
        "outputId": "310094d9-3947-4df5-8116-541b07b59329"
      },
      "outputs": [
        {
          "output_type": "stream",
          "name": "stdout",
          "text": [
            "Requirement already satisfied: pyarrow in ./big_data_env/lib/python3.10/site-packages (11.0.0)\r\n",
            "Requirement already satisfied: numpy>=1.16.6 in ./big_data_env/lib/python3.10/site-packages (from pyarrow) (1.24.3)\r\n",
            "Note: you may need to restart the kernel to use updated packages.\n"
          ]
        }
      ],
      "source": [
        "pip install pyarrow"
      ]
    },
    {
      "cell_type": "code",
      "source": [
        "pip install seaborn"
      ],
      "metadata": {
        "id": "vWFDIVyMUUPh",
        "outputId": "ce7f6a3f-ba9f-4194-d3e8-4d365217d39c",
        "colab": {
          "base_uri": "https://localhost:8080/"
        }
      },
      "execution_count": 3,
      "outputs": [
        {
          "output_type": "stream",
          "name": "stdout",
          "text": [
            "Requirement already satisfied: seaborn in ./big_data_env/lib/python3.10/site-packages (0.12.2)\n",
            "Requirement already satisfied: pandas>=0.25 in ./big_data_env/lib/python3.10/site-packages (from seaborn) (2.0.1)\n",
            "Requirement already satisfied: matplotlib!=3.6.1,>=3.1 in ./big_data_env/lib/python3.10/site-packages (from seaborn) (3.7.1)\n",
            "Requirement already satisfied: numpy!=1.24.0,>=1.17 in ./big_data_env/lib/python3.10/site-packages (from seaborn) (1.24.3)\n",
            "Requirement already satisfied: kiwisolver>=1.0.1 in ./big_data_env/lib/python3.10/site-packages (from matplotlib!=3.6.1,>=3.1->seaborn) (1.4.4)\n",
            "Requirement already satisfied: pyparsing>=2.3.1 in ./big_data_env/lib/python3.10/site-packages (from matplotlib!=3.6.1,>=3.1->seaborn) (3.0.9)\n",
            "Requirement already satisfied: fonttools>=4.22.0 in ./big_data_env/lib/python3.10/site-packages (from matplotlib!=3.6.1,>=3.1->seaborn) (4.39.3)\n",
            "Requirement already satisfied: cycler>=0.10 in ./big_data_env/lib/python3.10/site-packages (from matplotlib!=3.6.1,>=3.1->seaborn) (0.11.0)\n",
            "Requirement already satisfied: pillow>=6.2.0 in ./big_data_env/lib/python3.10/site-packages (from matplotlib!=3.6.1,>=3.1->seaborn) (9.5.0)\n",
            "Requirement already satisfied: packaging>=20.0 in ./big_data_env/lib/python3.10/site-packages (from matplotlib!=3.6.1,>=3.1->seaborn) (23.1)\n",
            "Requirement already satisfied: python-dateutil>=2.7 in ./big_data_env/lib/python3.10/site-packages (from matplotlib!=3.6.1,>=3.1->seaborn) (2.8.2)\n",
            "Requirement already satisfied: contourpy>=1.0.1 in ./big_data_env/lib/python3.10/site-packages (from matplotlib!=3.6.1,>=3.1->seaborn) (1.0.7)\n",
            "Requirement already satisfied: tzdata>=2022.1 in ./big_data_env/lib/python3.10/site-packages (from pandas>=0.25->seaborn) (2023.3)\n",
            "Requirement already satisfied: pytz>=2020.1 in ./big_data_env/lib/python3.10/site-packages (from pandas>=0.25->seaborn) (2023.3)\n",
            "Requirement already satisfied: six>=1.5 in ./big_data_env/lib/python3.10/site-packages (from python-dateutil>=2.7->matplotlib!=3.6.1,>=3.1->seaborn) (1.16.0)\n",
            "Note: you may need to restart the kernel to use updated packages.\n"
          ]
        }
      ]
    },
    {
      "cell_type": "code",
      "source": [
        "pip install scipy"
      ],
      "metadata": {
        "id": "l1XsQPIkUyR5",
        "outputId": "e2077953-f148-47cf-dac2-a711c7772694",
        "colab": {
          "base_uri": "https://localhost:8080/"
        }
      },
      "execution_count": 4,
      "outputs": [
        {
          "output_type": "stream",
          "name": "stdout",
          "text": [
            "Requirement already satisfied: scipy in ./big_data_env/lib/python3.10/site-packages (1.10.1)\n",
            "Requirement already satisfied: numpy<1.27.0,>=1.19.5 in ./big_data_env/lib/python3.10/site-packages (from scipy) (1.24.3)\n",
            "Note: you may need to restart the kernel to use updated packages.\n"
          ]
        }
      ]
    },
    {
      "cell_type": "code",
      "source": [
        "import seaborn as sns"
      ],
      "metadata": {
        "id": "9Clmp6e2UNR0"
      },
      "execution_count": 5,
      "outputs": []
    },
    {
      "cell_type": "code",
      "source": [
        "import pandas as pd\n",
        "\n",
        "#df = pd.read_csv(\"wildfiredb.csv\")\n",
        "\n",
        "#df_corr = df[[\"Neighbor Slope max.\", \"Neighbor Slope min.\", \"Neighbor Slope median\", \"Neighbor Slope sum\", \"Neighbor Slope mode\", \"Neighbor Slope count\", \"Neighbor Slope mean\", \"Weather\"]]\n",
        "\n",
        "#df_corr.corr()"
      ],
      "metadata": {
        "id": "-yX-VPV9sBAE"
      },
      "execution_count": 6,
      "outputs": []
    },
    {
      "cell_type": "code",
      "source": [
        "!wget https://big-data-final-project.s3.amazonaws.com/wildfiredb.csv\n"
      ],
      "metadata": {
        "id": "-vKYgGlq-cbG",
        "colab": {
          "base_uri": "https://localhost:8080/"
        },
        "outputId": "cd177527-bfa0-491f-d251-1cc6ef0c2af1"
      },
      "execution_count": null,
      "outputs": [
        {
          "output_type": "stream",
          "name": "stdout",
          "text": [
            "--2023-04-25 21:01:41--  https://big-data-final-project.s3.amazonaws.com/wildfiredb.csv\r\n",
            "Resolving big-data-final-project.s3.amazonaws.com (big-data-final-project.s3.amazonaws.com)... 52.217.228.113, 52.217.67.28, 52.216.42.137, ...\r\n",
            "Connecting to big-data-final-project.s3.amazonaws.com (big-data-final-project.s3.amazonaws.com)|52.217.228.113|:443... connected.\n",
            "HTTP request sent, awaiting response... 200 OK\n",
            "Length: 5688115791 (5.3G) [text/csv]\n",
            "Saving to: ‘wildfiredb.csv.2’\n",
            "\n",
            "wildfiredb.csv.2      0%[                    ]  46.64M   115MB/s               ^C\n"
          ]
        }
      ]
    },
    {
      "cell_type": "code",
      "source": [
        "import pandas as pd\n",
        "\n",
        "# Define the file path\n",
        "file_path = 'wildfiredb.csv'\n",
        "\n",
        "# Read the first 10 rows of the CSV file using Pandas\n",
        "df = pd.read_csv(file_path, nrows=20000)\n",
        "df = df.dropna()\n",
        "df = df[df['Neighbour_frp'] > 0]\n",
        "df['frp_diff'] = df['frp'] - df['Neighbour_frp']\n",
        "\n",
        "\n",
        "# Print the Pandas DataFrame\n",
        "print(df)\n",
        "\n",
        "\n"
      ],
      "metadata": {
        "id": "DLiJhVU5-iH0",
        "outputId": "b40e4530-32bc-4299-f4c8-ee23881f55ae",
        "colab": {
          "base_uri": "https://localhost:8080/"
        }
      },
      "execution_count": 25,
      "outputs": [
        {
          "output_type": "stream",
          "name": "stdout",
          "text": [
            "       Polygon_ID    acq_date      frp  Neighbour  Neighbour_frp  CBC2014_max   \n",
            "152        116669  2016-06-16    1.100     116670           4.60         20.0  \\\n",
            "167        118426  2017-07-10    7.300     118425           1.40         10.0   \n",
            "168        118426  2017-07-13    1.200     118425           8.95         10.0   \n",
            "169        118426  2017-07-14    3.800     118425          39.00         10.0   \n",
            "170        118728  2017-07-13    1.200     118425           8.95          8.0   \n",
            "...           ...         ...      ...        ...            ...          ...   \n",
            "19954      624698  2014-09-19  117.300     624844           2.40         12.0   \n",
            "19956      624843  2014-09-19   25.200     624844           2.40         12.0   \n",
            "19958      624699  2014-09-19   59.125     624844           2.40         12.0   \n",
            "19960      624845  2014-09-19  107.500     624844           2.40         12.0   \n",
            "19962      624991  2014-09-19  124.200     624844           2.40         12.0   \n",
            "\n",
            "       CBC2014_min  CBC2014_median  CBC2014_sum  CBC2014_mode  ...   \n",
            "152            0.0             0.0        618.0           0.0  ...  \\\n",
            "167            0.0             8.0        946.0           0.0  ...   \n",
            "168            0.0             8.0        946.0           0.0  ...   \n",
            "169            0.0             8.0        946.0           0.0  ...   \n",
            "170            0.0             8.0       1096.0           0.0  ...   \n",
            "...            ...             ...          ...           ...  ...   \n",
            "19954          0.0             0.0        709.0           0.0  ...   \n",
            "19956          0.0            11.0       1210.0           0.0  ...   \n",
            "19958          0.0             0.0         92.0           0.0  ...   \n",
            "19960          0.0             0.0         73.0           0.0  ...   \n",
            "19962          0.0             0.0        519.0           0.0  ...   \n",
            "\n",
            "       Neighbour_NVC2016_count  Neighbour_NVC2016_mean  Neighbour_SLP2016_max   \n",
            "152                        144               7236.8750                   36.0  \\\n",
            "167                        156               6072.7114                   44.0   \n",
            "168                        156               6072.7114                   44.0   \n",
            "169                        156               6072.7114                   44.0   \n",
            "170                        156               6072.7114                   44.0   \n",
            "...                        ...                     ...                    ...   \n",
            "19954                      169               7175.9526                   38.0   \n",
            "19956                      169               7175.9526                   38.0   \n",
            "19958                      169               7175.9526                   38.0   \n",
            "19960                      169               7175.9526                   38.0   \n",
            "19962                      169               7175.9526                   38.0   \n",
            "\n",
            "       Neighbour_SLP2016_min  Neighbour_SLP2016_median  Neighbour_SLP2016_sum   \n",
            "152                      2.0                      22.0                 3090.0  \\\n",
            "167                      8.0                      27.0                 4187.0   \n",
            "168                      8.0                      27.0                 4187.0   \n",
            "169                      8.0                      27.0                 4187.0   \n",
            "170                      8.0                      27.0                 4187.0   \n",
            "...                      ...                       ...                    ...   \n",
            "19954                   23.0                      30.0                 5009.0   \n",
            "19956                   23.0                      30.0                 5009.0   \n",
            "19958                   23.0                      30.0                 5009.0   \n",
            "19960                   23.0                      30.0                 5009.0   \n",
            "19962                   23.0                      30.0                 5009.0   \n",
            "\n",
            "       Neighbour_SLP2016_mode  Neighbour_SLP2016_count   \n",
            "152                      24.0                      144  \\\n",
            "167                      33.0                      156   \n",
            "168                      33.0                      156   \n",
            "169                      33.0                      156   \n",
            "170                      33.0                      156   \n",
            "...                       ...                      ...   \n",
            "19954                    33.0                      169   \n",
            "19956                    33.0                      169   \n",
            "19958                    33.0                      169   \n",
            "19960                    33.0                      169   \n",
            "19962                    33.0                      169   \n",
            "\n",
            "       Neighbour_SLP2016_mean  frp_diff  \n",
            "152                 21.458334    -3.500  \n",
            "167                 26.839743     5.900  \n",
            "168                 26.839743    -7.750  \n",
            "169                 26.839743   -35.200  \n",
            "170                 26.839743    -7.750  \n",
            "...                       ...       ...  \n",
            "19954               29.639053   114.900  \n",
            "19956               29.639053    22.800  \n",
            "19958               29.639053    56.725  \n",
            "19960               29.639053   105.100  \n",
            "19962               29.639053   121.800  \n",
            "\n",
            "[3879 rows x 398 columns]\n"
          ]
        }
      ]
    },
    {
      "cell_type": "code",
      "source": [
        "from scipy import stats\n",
        "\n",
        "# Define a function to remove outliers using the Z-score method\n",
        "def remove_outliers(df, z_thresh):\n",
        "    z_scores = stats.zscore(df)\n",
        "    abs_z_scores = np.abs(z_scores)\n",
        "    filtered_entries = (abs_z_scores < z_thresh).all(axis=1)\n",
        "    return df[filtered_entries]\n",
        "\n",
        "# Define the Z-score threshold for outlier removal\n",
        "z_thresh = 3\n",
        "\n",
        "# Apply the remove_outliers function to your DataFrame\n",
        "df = remove_outliers(df, z_thresh)\n"
      ],
      "metadata": {
        "id": "zwnxmW5rWr9_",
        "outputId": "7dd172f9-2081-495c-ae47-6d3280a8ec4f",
        "colab": {
          "base_uri": "https://localhost:8080/",
          "height": 758
        }
      },
      "execution_count": 10,
      "outputs": [
        {
          "output_type": "error",
          "ename": "TypeError",
          "evalue": "ignored",
          "traceback": [
            "\u001b[0;31m---------------------------------------------------------------------------\u001b[0m",
            "\u001b[0;31mTypeError\u001b[0m                                 Traceback (most recent call last)",
            "Cell \u001b[0;32mIn[10], line 14\u001b[0m\n\u001b[1;32m     11\u001b[0m z_thresh \u001b[38;5;241m=\u001b[39m \u001b[38;5;241m3\u001b[39m\n\u001b[1;32m     13\u001b[0m \u001b[38;5;66;03m# Apply the remove_outliers function to your DataFrame\u001b[39;00m\n\u001b[0;32m---> 14\u001b[0m df \u001b[38;5;241m=\u001b[39m \u001b[43mremove_outliers\u001b[49m\u001b[43m(\u001b[49m\u001b[43mdf\u001b[49m\u001b[43m,\u001b[49m\u001b[43m \u001b[49m\u001b[43mz_thresh\u001b[49m\u001b[43m)\u001b[49m\n",
            "Cell \u001b[0;32mIn[10], line 5\u001b[0m, in \u001b[0;36mremove_outliers\u001b[0;34m(df, z_thresh)\u001b[0m\n\u001b[1;32m      4\u001b[0m \u001b[38;5;28;01mdef\u001b[39;00m \u001b[38;5;21mremove_outliers\u001b[39m(df, z_thresh):\n\u001b[0;32m----> 5\u001b[0m     z_scores \u001b[38;5;241m=\u001b[39m \u001b[43mstats\u001b[49m\u001b[38;5;241;43m.\u001b[39;49m\u001b[43mzscore\u001b[49m\u001b[43m(\u001b[49m\u001b[43mdf\u001b[49m\u001b[43m)\u001b[49m\n\u001b[1;32m      6\u001b[0m     abs_z_scores \u001b[38;5;241m=\u001b[39m np\u001b[38;5;241m.\u001b[39mabs(z_scores)\n\u001b[1;32m      7\u001b[0m     filtered_entries \u001b[38;5;241m=\u001b[39m (abs_z_scores \u001b[38;5;241m<\u001b[39m z_thresh)\u001b[38;5;241m.\u001b[39mall(axis\u001b[38;5;241m=\u001b[39m\u001b[38;5;241m1\u001b[39m)\n",
            "File \u001b[0;32m~/big_data_env/lib/python3.10/site-packages/scipy/stats/_stats_py.py:2713\u001b[0m, in \u001b[0;36mzscore\u001b[0;34m(a, axis, ddof, nan_policy)\u001b[0m\n\u001b[1;32m   2644\u001b[0m \u001b[38;5;28;01mdef\u001b[39;00m \u001b[38;5;21mzscore\u001b[39m(a, axis\u001b[38;5;241m=\u001b[39m\u001b[38;5;241m0\u001b[39m, ddof\u001b[38;5;241m=\u001b[39m\u001b[38;5;241m0\u001b[39m, nan_policy\u001b[38;5;241m=\u001b[39m\u001b[38;5;124m'\u001b[39m\u001b[38;5;124mpropagate\u001b[39m\u001b[38;5;124m'\u001b[39m):\n\u001b[1;32m   2645\u001b[0m \u001b[38;5;250m    \u001b[39m\u001b[38;5;124;03m\"\"\"\u001b[39;00m\n\u001b[1;32m   2646\u001b[0m \u001b[38;5;124;03m    Compute the z score.\u001b[39;00m\n\u001b[1;32m   2647\u001b[0m \n\u001b[0;32m   (...)\u001b[0m\n\u001b[1;32m   2711\u001b[0m \u001b[38;5;124;03m           [-0.91611681, -0.89090508,  1.4983032 ,  0.88731639, -0.5785977 ]])\u001b[39;00m\n\u001b[1;32m   2712\u001b[0m \u001b[38;5;124;03m    \"\"\"\u001b[39;00m\n\u001b[0;32m-> 2713\u001b[0m     \u001b[38;5;28;01mreturn\u001b[39;00m \u001b[43mzmap\u001b[49m\u001b[43m(\u001b[49m\u001b[43ma\u001b[49m\u001b[43m,\u001b[49m\u001b[43m \u001b[49m\u001b[43ma\u001b[49m\u001b[43m,\u001b[49m\u001b[43m \u001b[49m\u001b[43maxis\u001b[49m\u001b[38;5;241;43m=\u001b[39;49m\u001b[43maxis\u001b[49m\u001b[43m,\u001b[49m\u001b[43m \u001b[49m\u001b[43mddof\u001b[49m\u001b[38;5;241;43m=\u001b[39;49m\u001b[43mddof\u001b[49m\u001b[43m,\u001b[49m\u001b[43m \u001b[49m\u001b[43mnan_policy\u001b[49m\u001b[38;5;241;43m=\u001b[39;49m\u001b[43mnan_policy\u001b[49m\u001b[43m)\u001b[49m\n",
            "File \u001b[0;32m~/big_data_env/lib/python3.10/site-packages/scipy/stats/_stats_py.py:2872\u001b[0m, in \u001b[0;36mzmap\u001b[0;34m(scores, compare, axis, ddof, nan_policy)\u001b[0m\n\u001b[1;32m   2870\u001b[0m         isconst \u001b[38;5;241m=\u001b[39m np\u001b[38;5;241m.\u001b[39mapply_along_axis(_isconst, axis, a)\n\u001b[1;32m   2871\u001b[0m \u001b[38;5;28;01melse\u001b[39;00m:\n\u001b[0;32m-> 2872\u001b[0m     mn \u001b[38;5;241m=\u001b[39m \u001b[43ma\u001b[49m\u001b[38;5;241;43m.\u001b[39;49m\u001b[43mmean\u001b[49m\u001b[43m(\u001b[49m\u001b[43maxis\u001b[49m\u001b[38;5;241;43m=\u001b[39;49m\u001b[43maxis\u001b[49m\u001b[43m,\u001b[49m\u001b[43m \u001b[49m\u001b[43mkeepdims\u001b[49m\u001b[38;5;241;43m=\u001b[39;49m\u001b[38;5;28;43;01mTrue\u001b[39;49;00m\u001b[43m)\u001b[49m\n\u001b[1;32m   2873\u001b[0m     std \u001b[38;5;241m=\u001b[39m a\u001b[38;5;241m.\u001b[39mstd(axis\u001b[38;5;241m=\u001b[39maxis, ddof\u001b[38;5;241m=\u001b[39mddof, keepdims\u001b[38;5;241m=\u001b[39m\u001b[38;5;28;01mTrue\u001b[39;00m)\n\u001b[1;32m   2874\u001b[0m     \u001b[38;5;28;01mif\u001b[39;00m axis \u001b[38;5;129;01mis\u001b[39;00m \u001b[38;5;28;01mNone\u001b[39;00m:\n",
            "File \u001b[0;32m~/big_data_env/lib/python3.10/site-packages/numpy/core/_methods.py:184\u001b[0m, in \u001b[0;36m_mean\u001b[0;34m(a, axis, dtype, out, keepdims, where)\u001b[0m\n\u001b[1;32m    182\u001b[0m \u001b[38;5;28;01mif\u001b[39;00m \u001b[38;5;28misinstance\u001b[39m(ret, mu\u001b[38;5;241m.\u001b[39mndarray):\n\u001b[1;32m    183\u001b[0m     \u001b[38;5;28;01mwith\u001b[39;00m _no_nep50_warning():\n\u001b[0;32m--> 184\u001b[0m         ret \u001b[38;5;241m=\u001b[39m \u001b[43mum\u001b[49m\u001b[38;5;241;43m.\u001b[39;49m\u001b[43mtrue_divide\u001b[49m\u001b[43m(\u001b[49m\n\u001b[1;32m    185\u001b[0m \u001b[43m                \u001b[49m\u001b[43mret\u001b[49m\u001b[43m,\u001b[49m\u001b[43m \u001b[49m\u001b[43mrcount\u001b[49m\u001b[43m,\u001b[49m\u001b[43m \u001b[49m\u001b[43mout\u001b[49m\u001b[38;5;241;43m=\u001b[39;49m\u001b[43mret\u001b[49m\u001b[43m,\u001b[49m\u001b[43m \u001b[49m\u001b[43mcasting\u001b[49m\u001b[38;5;241;43m=\u001b[39;49m\u001b[38;5;124;43m'\u001b[39;49m\u001b[38;5;124;43munsafe\u001b[39;49m\u001b[38;5;124;43m'\u001b[39;49m\u001b[43m,\u001b[49m\u001b[43m \u001b[49m\u001b[43msubok\u001b[49m\u001b[38;5;241;43m=\u001b[39;49m\u001b[38;5;28;43;01mFalse\u001b[39;49;00m\u001b[43m)\u001b[49m\n\u001b[1;32m    186\u001b[0m     \u001b[38;5;28;01mif\u001b[39;00m is_float16_result \u001b[38;5;129;01mand\u001b[39;00m out \u001b[38;5;129;01mis\u001b[39;00m \u001b[38;5;28;01mNone\u001b[39;00m:\n\u001b[1;32m    187\u001b[0m         ret \u001b[38;5;241m=\u001b[39m arr\u001b[38;5;241m.\u001b[39mdtype\u001b[38;5;241m.\u001b[39mtype(ret)\n",
            "\u001b[0;31mTypeError\u001b[0m: unsupported operand type(s) for /: 'str' and 'int'"
          ]
        }
      ]
    },
    {
      "cell_type": "code",
      "source": [
        "# Define the file path\n",
        "file_path = 'wildfiredb.csv'\n",
        "\n",
        "# Read only the first row of the CSV file to extract the column names\n",
        "with open(file_path, 'r') as f:\n",
        "    column_names = pd.read_csv(f, nrows=1).columns\n",
        "\n",
        "# Print all the column names in one line\n",
        "print(', '.join(column_names))\n",
        "\n"
      ],
      "metadata": {
        "id": "I56dyEtZ_IZ5",
        "outputId": "2f6350b0-8ca7-4cfd-f899-894fa7dab82d",
        "colab": {
          "base_uri": "https://localhost:8080/"
        }
      },
      "execution_count": 11,
      "outputs": [
        {
          "output_type": "stream",
          "name": "stdout",
          "text": [
            "Polygon_ID, acq_date, frp, Neighbour, Neighbour_frp, CBC2014_max, CBC2014_min, CBC2014_median, CBC2014_sum, CBC2014_mode, CBC2014_count, CBC2014_mean, CBD2012_max, CBD2012_min, CBD2012_median, CBD2012_sum, CBD2012_mode, CBD2012_count, CBD2012_mean, CBD2016_max, CBD2016_min, CBD2016_median, CBD2016_sum, CBD2016_mode, CBD2016_count, CBD2016_mean, CBH2012_max, CBH2012_min, CBH2012_median, CBH2012_sum, CBH2012_mode, CBH2012_count, CBH2012_mean, CBH2014_max, CBH2014_min, CBH2014_median, CBH2014_sum, CBH2014_mode, CBH2014_count, CBH2014_mean, CBH2016_max, CBH2016_min, CBH2016_median, CBH2016_sum, CBH2016_mode, CBH2016_count, CBH2016_mean, CC2012_max, CC2012_min, CC2012_median, CC2012_sum, CC2012_mode, CC2012_count, CC2012_mean, CC2014_max, CC2014_min, CC2014_median, CC2014_sum, CC2014_mode, CC2014_count, CC2014_mean, CC2016_max, CC2016_min, CC2016_median, CC2016_sum, CC2016_mode, CC2016_count, CC2016_mean, CH2012_max, CH2012_min, CH2012_median, CH2012_sum, CH2012_mode, CH2012_count, CH2012_mean, CH2014_max, CH2014_min, CH2014_median, CH2014_sum, CH2014_mode, CH2014_count, CH2014_mean, CH2016_max, CH2016_min, CH2016_median, CH2016_sum, CH2016_mode, CH2016_count, CH2016_mean, ELEV2016_max, ELEV2016_min, ELEV2016_median, ELEV2016_sum, ELEV2016_mode, ELEV2016_count, ELEV2016_mean, EVC2012_max, EVC2012_min, EVC2012_median, EVC2012_sum, EVC2012_mode, EVC2012_count, EVC2012_mean, EVC2014_max, EVC2014_min, EVC2014_median, EVC2014_sum, EVC2014_mode, EVC2014_count, EVC2014_mean, EVC2016_max, EVC2016_min, EVC2016_median, EVC2016_sum, EVC2016_mode, EVC2016_count, EVC2016_mean, EVH2012_max, EVH2012_min, EVH2012_median, EVH2012_sum, EVH2012_mode, EVH2012_count, EVH2012_mean, EVH2014_max, EVH2014_min, EVH2014_median, EVH2014_sum, EVH2014_mode, EVH2014_count, EVH2014_mean, EVH2016_max, EVH2016_min, EVH2016_median, EVH2016_sum, EVH2016_mode, EVH2016_count, EVH2016_mean, EVT2012_max, EVT2012_min, EVT2012_median, EVT2012_sum, EVT2012_mode, EVT2012_count, EVT2012_mean, EVT2014_max, EVT2014_min, EVT2014_median, EVT2014_sum, EVT2014_mode, EVT2014_count, EVT2014_mean, EVT2016_max, EVT2016_min, EVT2016_median, EVT2016_sum, EVT2016_mode, EVT2016_count, EVT2016_mean, FCCS2014_max, FCCS2014_min, FCCS2014_median, FCCS2014_sum, FCCS2014_mode, FCCS2014_count, FCCS2014_mean, FVC2016_max, FVC2016_min, FVC2016_median, FVC2016_sum, FVC2016_mode, FVC2016_count, FVC2016_mean, FVH2016_max, FVH2016_min, FVH2016_median, FVH2016_sum, FVH2016_mode, FVH2016_count, FVH2016_mean, FVT2016_max, FVT2016_min, FVT2016_median, FVT2016_sum, FVT2016_mode, FVT2016_count, FVT2016_mean, NVC2016_max, NVC2016_min, NVC2016_median, NVC2016_sum, NVC2016_mode, NVC2016_count, NVC2016_mean, SLP2016_max, SLP2016_min, SLP2016_median, SLP2016_sum, SLP2016_mode, SLP2016_count, SLP2016_mean, Neighbour_CBC2014_max, Neighbour_CBC2014_min, Neighbour_CBC2014_median, Neighbour_CBC2014_sum, Neighbour_CBC2014_mode, Neighbour_CBC2014_count, Neighbour_CBC2014_mean, Neighbour_CBD2012_max, Neighbour_CBD2012_min, Neighbour_CBD2012_median, Neighbour_CBD2012_sum, Neighbour_CBD2012_mode, Neighbour_CBD2012_count, Neighbour_CBD2012_mean, Neighbour_CBD2016_max, Neighbour_CBD2016_min, Neighbour_CBD2016_median, Neighbour_CBD2016_sum, Neighbour_CBD2016_mode, Neighbour_CBD2016_count, Neighbour_CBD2016_mean, Neighbour_CBH2012_max, Neighbour_CBH2012_min, Neighbour_CBH2012_median, Neighbour_CBH2012_sum, Neighbour_CBH2012_mode, Neighbour_CBH2012_count, Neighbour_CBH2012_mean, Neighbour_CBH2014_max, Neighbour_CBH2014_min, Neighbour_CBH2014_median, Neighbour_CBH2014_sum, Neighbour_CBH2014_mode, Neighbour_CBH2014_count, Neighbour_CBH2014_mean, Neighbour_CBH2016_max, Neighbour_CBH2016_min, Neighbour_CBH2016_median, Neighbour_CBH2016_sum, Neighbour_CBH2016_mode, Neighbour_CBH2016_count, Neighbour_CBH2016_mean, Neighbour_CC2012_max, Neighbour_CC2012_min, Neighbour_CC2012_median, Neighbour_CC2012_sum, Neighbour_CC2012_mode, Neighbour_CC2012_count, Neighbour_CC2012_mean, Neighbour_CC2014_max, Neighbour_CC2014_min, Neighbour_CC2014_median, Neighbour_CC2014_sum, Neighbour_CC2014_mode, Neighbour_CC2014_count, Neighbour_CC2014_mean, Neighbour_CC2016_max, Neighbour_CC2016_min, Neighbour_CC2016_median, Neighbour_CC2016_sum, Neighbour_CC2016_mode, Neighbour_CC2016_count, Neighbour_CC2016_mean, Neighbour_CH2012_max, Neighbour_CH2012_min, Neighbour_CH2012_median, Neighbour_CH2012_sum, Neighbour_CH2012_mode, Neighbour_CH2012_count, Neighbour_CH2012_mean, Neighbour_CH2014_max, Neighbour_CH2014_min, Neighbour_CH2014_median, Neighbour_CH2014_sum, Neighbour_CH2014_mode, Neighbour_CH2014_count, Neighbour_CH2014_mean, Neighbour_CH2016_max, Neighbour_CH2016_min, Neighbour_CH2016_median, Neighbour_CH2016_sum, Neighbour_CH2016_mode, Neighbour_CH2016_count, Neighbour_CH2016_mean, Neighbour_ELEV2016_max, Neighbour_ELEV2016_min, Neighbour_ELEV2016_median, Neighbour_ELEV2016_sum, Neighbour_ELEV2016_mode, Neighbour_ELEV2016_count, Neighbour_ELEV2016_mean, Neighbour_EVC2012_max, Neighbour_EVC2012_min, Neighbour_EVC2012_median, Neighbour_EVC2012_sum, Neighbour_EVC2012_mode, Neighbour_EVC2012_count, Neighbour_EVC2012_mean, Neighbour_EVC2014_max, Neighbour_EVC2014_min, Neighbour_EVC2014_median, Neighbour_EVC2014_sum, Neighbour_EVC2014_mode, Neighbour_EVC2014_count, Neighbour_EVC2014_mean, Neighbour_EVC2016_max, Neighbour_EVC2016_min, Neighbour_EVC2016_median, Neighbour_EVC2016_sum, Neighbour_EVC2016_mode, Neighbour_EVC2016_count, Neighbour_EVC2016_mean, Neighbour_EVH2012_max, Neighbour_EVH2012_min, Neighbour_EVH2012_median, Neighbour_EVH2012_sum, Neighbour_EVH2012_mode, Neighbour_EVH2012_count, Neighbour_EVH2012_mean, Neighbour_EVH2014_max, Neighbour_EVH2014_min, Neighbour_EVH2014_median, Neighbour_EVH2014_sum, Neighbour_EVH2014_mode, Neighbour_EVH2014_count, Neighbour_EVH2014_mean, Neighbour_EVH2016_max, Neighbour_EVH2016_min, Neighbour_EVH2016_median, Neighbour_EVH2016_sum, Neighbour_EVH2016_mode, Neighbour_EVH2016_count, Neighbour_EVH2016_mean, Neighbour_EVT2012_max, Neighbour_EVT2012_min, Neighbour_EVT2012_median, Neighbour_EVT2012_sum, Neighbour_EVT2012_mode, Neighbour_EVT2012_count, Neighbour_EVT2012_mean, Neighbour_EVT2014_max, Neighbour_EVT2014_min, Neighbour_EVT2014_median, Neighbour_EVT2014_sum, Neighbour_EVT2014_mode, Neighbour_EVT2014_count, Neighbour_EVT2014_mean, Neighbour_EVT2016_max, Neighbour_EVT2016_min, Neighbour_EVT2016_median, Neighbour_EVT2016_sum, Neighbour_EVT2016_mode, Neighbour_EVT2016_count, Neighbour_EVT2016_mean, Neighbour_FCCS2014_max, Neighbour_FCCS2014_min, Neighbour_FCCS2014_median, Neighbour_FCCS2014_sum, Neighbour_FCCS2014_mode, Neighbour_FCCS2014_count, Neighbour_FCCS2014_mean, Neighbour_FVC2016_max, Neighbour_FVC2016_min, Neighbour_FVC2016_median, Neighbour_FVC2016_sum, Neighbour_FVC2016_mode, Neighbour_FVC2016_count, Neighbour_FVC2016_mean, Neighbour_FVH2016_max, Neighbour_FVH2016_min, Neighbour_FVH2016_median, Neighbour_FVH2016_sum, Neighbour_FVH2016_mode, Neighbour_FVH2016_count, Neighbour_FVH2016_mean, Neighbour_FVT2016_max, Neighbour_FVT2016_min, Neighbour_FVT2016_median, Neighbour_FVT2016_sum, Neighbour_FVT2016_mode, Neighbour_FVT2016_count, Neighbour_FVT2016_mean, Neighbour_NVC2016_max, Neighbour_NVC2016_min, Neighbour_NVC2016_median, Neighbour_NVC2016_sum, Neighbour_NVC2016_mode, Neighbour_NVC2016_count, Neighbour_NVC2016_mean, Neighbour_SLP2016_max, Neighbour_SLP2016_min, Neighbour_SLP2016_median, Neighbour_SLP2016_sum, Neighbour_SLP2016_mode, Neighbour_SLP2016_count, Neighbour_SLP2016_mean\n"
          ]
        }
      ]
    },
    {
      "cell_type": "code",
      "source": [
        "#FRP, ELEV2016_mean, Neighbour_frp, CBD2016_mean, EVC2016_mean, EVH2016_mean, EVT2016_mean, SLP2016_mean"
      ],
      "metadata": {
        "id": "oCT5i1TCBfSZ"
      },
      "execution_count": null,
      "outputs": []
    },
    {
      "cell_type": "code",
      "source": [
        "# Find the correlation between frp and elevation\n",
        "correlation = df['frp_diff'].corr(df['Neighbour_ELEV2016_mean'])\n",
        "\n",
        "# Print the correlation\n",
        "print(correlation)"
      ],
      "metadata": {
        "id": "KTbitG6vFVM7",
        "outputId": "4e049a8e-17dc-44aa-eb20-a17c28943c97",
        "colab": {
          "base_uri": "https://localhost:8080/"
        }
      },
      "execution_count": 39,
      "outputs": [
        {
          "output_type": "stream",
          "name": "stdout",
          "text": [
            "0.012830754074172451\n"
          ]
        }
      ]
    },
    {
      "cell_type": "code",
      "source": [
        "# Find the correlation between frp and slope\n",
        "correlation = df['frp_diff'].corr(df['Neighbour_SLP2016_mean'])\n",
        "\n",
        "# Print the correlation\n",
        "print(correlation)"
      ],
      "metadata": {
        "id": "9SxrzsbtFhu8",
        "colab": {
          "base_uri": "https://localhost:8080/"
        },
        "outputId": "475915e9-a2b7-4408-9cca-b5dd3a62e916"
      },
      "execution_count": 41,
      "outputs": [
        {
          "output_type": "stream",
          "name": "stdout",
          "text": [
            "0.008005241855772859\n"
          ]
        }
      ]
    },
    {
      "cell_type": "code",
      "source": [
        "# Find the correlation between frp and existing vegitation cover\n",
        "correlation = df['frp'].corr(df['EVC2016_mean'])\n",
        "\n",
        "# Print the correlation\n",
        "print(correlation)"
      ],
      "metadata": {
        "id": "F41blhr_F33i",
        "colab": {
          "base_uri": "https://localhost:8080/"
        },
        "outputId": "f0fb1777-c22c-4afb-a75b-81f9511fbd4b"
      },
      "execution_count": 29,
      "outputs": [
        {
          "output_type": "stream",
          "name": "stdout",
          "text": [
            "0.20908213495027705\n"
          ]
        }
      ]
    },
    {
      "cell_type": "code",
      "source": [
        "# Find the correlation between frp and existing vegitation height\n",
        "correlation = df['frp_diff'].corr(df['Neighbour_EVH2016_mean'])\n",
        "\n",
        "# Print the correlation\n",
        "print(correlation)"
      ],
      "metadata": {
        "colab": {
          "base_uri": "https://localhost:8080/"
        },
        "id": "2u6fHAv_HFHN",
        "outputId": "b257cc9d-0786-44a8-9fa7-c1cd49667168"
      },
      "execution_count": 42,
      "outputs": [
        {
          "output_type": "stream",
          "name": "stdout",
          "text": [
            "0.16883851923128715\n"
          ]
        }
      ]
    },
    {
      "cell_type": "code",
      "source": [
        "# Find the correlation between frp and existing vegitation type\n",
        "correlation = df['frp_diff'].corr(df['Neighbour_EVT2016_mean'])\n",
        "\n",
        "# Print the correlation\n",
        "print(correlation)"
      ],
      "metadata": {
        "colab": {
          "base_uri": "https://localhost:8080/"
        },
        "id": "RMx75dF-HH9r",
        "outputId": "3f3108cc-5c08-4c1e-def5-e3949cfef757"
      },
      "execution_count": 43,
      "outputs": [
        {
          "output_type": "stream",
          "name": "stdout",
          "text": [
            "-0.06746498491534597\n"
          ]
        }
      ]
    },
    {
      "cell_type": "code",
      "source": [
        "# Find the correlation between frp and canopy base height\n",
        "correlation = df['frp_diff'].corr(df['Neighbour_CBH2016_mean'])\n",
        "\n",
        "# Print the correlation\n",
        "print(correlation)"
      ],
      "metadata": {
        "id": "fwOmg2gqKUm9",
        "outputId": "7eb520c3-2722-4882-a74a-2d53c05b4e2f",
        "colab": {
          "base_uri": "https://localhost:8080/"
        }
      },
      "execution_count": 44,
      "outputs": [
        {
          "output_type": "stream",
          "name": "stdout",
          "text": [
            "0.07656257840205549\n"
          ]
        }
      ]
    },
    {
      "cell_type": "code",
      "source": [
        "# Find the correlation between frp and canopy base density\n",
        "correlation = df['frp_diff'].corr(df['Neighbour_CBD2016_mean'])\n",
        "\n",
        "# Print the correlation\n",
        "print(correlation)"
      ],
      "metadata": {
        "id": "E2Vhup_aLSRD",
        "outputId": "c6ec4efd-25dc-48cd-dc57-794acbeff26c",
        "colab": {
          "base_uri": "https://localhost:8080/"
        }
      },
      "execution_count": 45,
      "outputs": [
        {
          "output_type": "stream",
          "name": "stdout",
          "text": [
            "-0.04306184373845352\n"
          ]
        }
      ]
    },
    {
      "cell_type": "code",
      "source": [
        "# Find the correlation between frp and canopy cover\n",
        "correlation = df['frp_diff'].corr(df['Neighbour_CC2016_mean'])\n",
        "\n",
        "# Print the correlation\n",
        "print(correlation)"
      ],
      "metadata": {
        "id": "lTWYNsbNLW8l",
        "outputId": "5146775c-9b2d-4555-92d2-3cb8966aaf86",
        "colab": {
          "base_uri": "https://localhost:8080/"
        }
      },
      "execution_count": 46,
      "outputs": [
        {
          "output_type": "stream",
          "name": "stdout",
          "text": [
            "-0.016293134838970175\n"
          ]
        }
      ]
    },
    {
      "cell_type": "code",
      "source": [
        "# Find the correlation between frp and canopy height\n",
        "correlation = df['frp_diff'].corr(df['Neighbour_CH2016_mean'])\n",
        "\n",
        "# Print the correlation\n",
        "print(correlation)"
      ],
      "metadata": {
        "id": "vjHbcRxBLY88",
        "outputId": "f4d6f528-f3d5-403c-c33c-a3242948541c",
        "colab": {
          "base_uri": "https://localhost:8080/"
        }
      },
      "execution_count": 47,
      "outputs": [
        {
          "output_type": "stream",
          "name": "stdout",
          "text": [
            "0.01548796179589104\n"
          ]
        }
      ]
    },
    {
      "cell_type": "code",
      "source": [
        "from scipy.stats import pearsonr\n",
        "\n",
        "corr_coef, p_value = pearsonr(df['frp'], df['CH2016_mean'])\n",
        "print(corr_coef)\n"
      ],
      "metadata": {
        "id": "LwewftypUq_g",
        "outputId": "506ed313-c53c-4f4a-9a09-cee5fa43347e",
        "colab": {
          "base_uri": "https://localhost:8080/"
        }
      },
      "execution_count": 21,
      "outputs": [
        {
          "output_type": "stream",
          "name": "stdout",
          "text": [
            "-0.008692111068444882\n"
          ]
        }
      ]
    },
    {
      "cell_type": "markdown",
      "source": [],
      "metadata": {
        "id": "qXRWpcEDUq1V"
      }
    },
    {
      "cell_type": "code",
      "source": [
        "# Create a new column that is the sum of EVH2016_mean, EVC2016_mean, and EVT2016_mean\n",
        "df['elev_combined'] = df['EVH2016_mean'] + df['EVC2016_mean'] + df['EVT2016_mean']\n",
        "\n",
        "# Compute the correlation between elev_combined and frp\n",
        "corr = df['frp'].corr(df['elev_combined'])\n",
        "\n",
        "print(corr)"
      ],
      "metadata": {
        "id": "LLy4Ay7KPo_S",
        "outputId": "853f4cad-40a6-47a3-fec6-e8de21342db7",
        "colab": {
          "base_uri": "https://localhost:8080/"
        }
      },
      "execution_count": 22,
      "outputs": [
        {
          "output_type": "stream",
          "name": "stdout",
          "text": [
            "-0.029298892397704324\n"
          ]
        }
      ]
    },
    {
      "cell_type": "code",
      "source": [
        "sns.jointplot(x='CBH2016_mean', y='frp', data=df, kind=\"reg\");"
      ],
      "metadata": {
        "id": "K5p-lXUyXHhG",
        "outputId": "863d1bc8-f60b-4154-d1e3-e67c6f0a3d7d",
        "colab": {
          "base_uri": "https://localhost:8080/",
          "height": 607
        }
      },
      "execution_count": 23,
      "outputs": [
        {
          "output_type": "display_data",
          "data": {
            "text/plain": [
              "<Figure size 600x600 with 3 Axes>"
            ],
            "image/png": "[encoded data removed]"
          },
          "metadata": {}
        }
      ]
    },
    {
      "cell_type": "code",
      "source": [
        "sns.jointplot(x='CC2016_mean', y='frp', data=df, kind=\"reg\");"
      ],
      "metadata": {
        "id": "mxgPtlxcULei",
        "outputId": "459dbed5-49b5-48e0-b728-c1dfa8242781",
        "colab": {
          "base_uri": "https://localhost:8080/",
          "height": 607
        }
      },
      "execution_count": 24,
      "outputs": [
        {
          "output_type": "display_data",
          "data": {
            "text/plain": [
              "<Figure size 600x600 with 3 Axes>"
            ],
            "image/png": "[encoded data removed]"
          },
          "metadata": {}
        }
      ]
    },
    {
      "cell_type": "code",
      "source": [
        "#elbow method\n",
        "from sklearn.cluster import KMeans\n",
        "import matplotlib.pyplot as plt\n",
        "import numpy as np\n",
        "\n",
        "# load as an array\n",
        "X = df[['frp', 'CBD2016_mean', 'CBH2016_mean', 'CC2016_mean', 'CH2016_mean', 'EVC2016_mean', 'EVH2016_mean', 'EVT2016_mean', 'SLP2016_mean', 'ELEV2016_mean']]\n",
        "\n",
        "# try a range of K values\n",
        "wcss = []\n",
        "for k in range(2, 11):\n",
        "    kmeans = KMeans(n_clusters=k)\n",
        "    kmeans.fit(X)\n",
        "    wcss.append(kmeans.inertia_)\n",
        "\n",
        "# Plot the WCSS \n",
        "plt.plot(range(2, 11), wcss)\n",
        "plt.xlabel('Number of clusters (k)')\n",
        "plt.ylabel('Within-cluster sum of squares (WCSS)')\n",
        "plt.title('Elbow method')\n",
        "plt.show()\n"
      ],
      "metadata": {
        "id": "8oh3wcKp7pHW"
      },
      "execution_count": null,
      "outputs": []
    },
    {
      "cell_type": "code",
      "source": [
        "import pandas as pd\n",
        "from sklearn.cluster import KMeans\n",
        "\n",
        "# fill x with correlated data\n",
        "X = df[['frp', 'CBD2016_mean', 'CBH2016_mean', 'CC2016_mean']]\n",
        "\n",
        "# Standardize \n",
        "X = (X - X.mean()) / X.std()\n",
        "\n",
        "# do k means\n",
        "kmeans = KMeans(n_clusters=3, random_state=0).fit(X)\n",
        "\n",
        "# Get cluster assignments\n",
        "labels = kmeans.labels_\n",
        "\n",
        "# add cluster assignments\n",
        "df['cluster'] = labels\n"
      ],
      "metadata": {
        "id": "Lu1UQ_uMDdbB"
      },
      "execution_count": null,
      "outputs": []
    },
    {
      "cell_type": "code",
      "source": [
        "import matplotlib.pyplot as plt\n",
        "\n",
        "# need diff colors for each cluster\n",
        "colors = {0: 'red', 1: 'green', 2: 'blue'}\n",
        "\n",
        "# make scatterplot for visuals\n",
        "fig, ax = plt.subplots()\n",
        "for label, color in colors.items():\n",
        "    mask = labels == label\n",
        "    ax.scatter(X[mask]['frp'], X[mask]['CBD2016_mean'], color=color, label=label)\n",
        "\n",
        "# make graph understandable\n",
        "ax.set_xlabel('FRP')\n",
        "ax.set_ylabel('CBD2016_mean')\n",
        "ax.legend()\n",
        "\n",
        "plt.show()\n"
      ],
      "metadata": {
        "id": "WQIJfNZfECnU"
      },
      "execution_count": null,
      "outputs": []
    }
  ]
}