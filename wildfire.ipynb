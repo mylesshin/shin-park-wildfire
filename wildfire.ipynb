{
  "nbformat": 4,
  "nbformat_minor": 0,
  "metadata": {
    "colab": {
      "provenance": [],
      "authorship_tag": "ABX9TyMMbdKK6aWmqVhlQUbMjyV2",
      "include_colab_link": true
    },
    "kernelspec": {
      "name": "python3",
      "display_name": "Python 3"
    },
    "language_info": {
      "name": "python"
    }
  },
  "cells": [
    {
      "cell_type": "markdown",
      "metadata": {
        "id": "view-in-github",
        "colab_type": "text"
      },
      "source": [
        "<a href=\"https://colab.research.google.com/github/mylesshin/shin-park-wildfire/blob/main/wildfire.ipynb\" target=\"_parent\"><img src=\"https://colab.research.google.com/assets/colab-badge.svg\" alt=\"Open In Colab\"/></a>"
      ]
    },
    {
      "cell_type": "code",
      "execution_count": 1,
      "metadata": {
        "colab": {
          "base_uri": "https://localhost:8080/"
        },
        "id": "vyQH1D9nq3s3",
        "outputId": "1e3e1308-3c1c-4be7-df15-f083c2bf7ea1"
      },
      "outputs": [
        {
          "output_type": "stream",
          "name": "stdout",
          "text": [
            "Requirement already satisfied: pyarrow in ./big_data_env/lib/python3.10/site-packages (11.0.0)\r\n",
            "Requirement already satisfied: numpy>=1.16.6 in ./big_data_env/lib/python3.10/site-packages (from pyarrow) (1.24.3)\r\n",
            "Note: you may need to restart the kernel to use updated packages.\n"
          ]
        }
      ],
      "source": [
        "pip install pyarrow"
      ]
    },
    {
      "cell_type": "code",
      "source": [
        "import pandas as pd\n",
        "\n",
        "#df = pd.read_csv(\"wildfiredb.csv\")\n",
        "\n",
        "#df_corr = df[[\"Neighbor Slope max.\", \"Neighbor Slope min.\", \"Neighbor Slope median\", \"Neighbor Slope sum\", \"Neighbor Slope mode\", \"Neighbor Slope count\", \"Neighbor Slope mean\", \"Weather\"]]\n",
        "\n",
        "#df_corr.corr()"
      ],
      "metadata": {
        "id": "-yX-VPV9sBAE"
      },
      "execution_count": 2,
      "outputs": []
    },
    {
      "cell_type": "code",
      "source": [
        "!wget https://big-data-final-project.s3.amazonaws.com/wildfiredb.csv\n"
      ],
      "metadata": {
        "id": "-vKYgGlq-cbG",
        "outputId": "a17c8fa8-ed02-4df2-ef70-7f2040bca936",
        "colab": {
          "base_uri": "https://localhost:8080/"
        }
      },
      "execution_count": 3,
      "outputs": [
        {
          "output_type": "stream",
          "name": "stdout",
          "text": [
            "--2023-04-25 19:47:26--  https://big-data-final-project.s3.amazonaws.com/wildfiredb.csv\r\n",
            "Resolving big-data-final-project.s3.amazonaws.com (big-data-final-project.s3.amazonaws.com)... 52.217.18.212, 52.216.227.184, 3.5.9.108, ...\r\n",
            "Connecting to big-data-final-project.s3.amazonaws.com (big-data-final-project.s3.amazonaws.com)|52.217.18.212|:443... connected.\n",
            "HTTP request sent, awaiting response... 200 OK\n",
            "Length: 5688115791 (5.3G) [text/csv]\n",
            "Saving to: ‘wildfiredb.csv.1’\n",
            "\n",
            "wildfiredb.csv.1    100%[===================>]   5.30G  67.2MB/s    in 87s     \n",
            "\n",
            "2023-04-25 19:48:53 (62.4 MB/s) - ‘wildfiredb.csv.1’ saved [5688115791/5688115791]\n",
            "\n"
          ]
        }
      ]
    },
    {
      "cell_type": "code",
      "source": [
        "import pandas as pd\n",
        "\n",
        "# Define the file path\n",
        "file_path = 'wildfiredb.csv'\n",
        "\n",
        "# Read the first 10 rows of the CSV file using Pandas\n",
        "df = pd.read_csv(file_path, nrows=100)\n",
        "\n",
        "# Print the Pandas DataFrame\n",
        "print(df)\n",
        "\n",
        "\n"
      ],
      "metadata": {
        "id": "DLiJhVU5-iH0",
        "outputId": "f77fdad1-f7c8-4909-82e8-5183ef5c03ff",
        "colab": {
          "base_uri": "https://localhost:8080/"
        }
      },
      "execution_count": 11,
      "outputs": [
        {
          "output_type": "stream",
          "name": "stdout",
          "text": [
            "    Polygon_ID    acq_date   frp  Neighbour  Neighbour_frp  CBC2014_max   \n",
            "0         7234  2012-11-06   3.2       7233            0.0         13.0  \\\n",
            "1         7380  2012-11-06   5.1       7233            0.0        100.0   \n",
            "2         7381  2014-11-02   0.9       7233            0.0        100.0   \n",
            "3         7381  2012-11-06   3.2       7233            0.0        100.0   \n",
            "4        15290  2015-11-14  14.6      15437            0.0        100.0   \n",
            "..         ...         ...   ...        ...            ...          ...   \n",
            "95       65027  2015-03-01   4.9      65223            0.0          0.0   \n",
            "96       66037  2013-02-09   8.5      65840            0.0          0.0   \n",
            "97       67032  2013-11-07   3.1      66836            0.0          0.0   \n",
            "98       67029  2018-05-20   3.1      67028            0.0        100.0   \n",
            "99       69780  2014-04-28   3.9      69976            0.0        100.0   \n",
            "\n",
            "    CBC2014_min  CBC2014_median  CBC2014_sum  CBC2014_mode  ...   \n",
            "0           0.0             9.0       1303.0           0.0  ...  \\\n",
            "1           0.0             8.0       1457.0           0.0  ...   \n",
            "2           0.0             9.0       1448.0           0.0  ...   \n",
            "3           0.0             9.0       1448.0           0.0  ...   \n",
            "4           0.0             8.0       1262.0           0.0  ...   \n",
            "..          ...             ...          ...           ...  ...   \n",
            "95          0.0             0.0          0.0           0.0  ...   \n",
            "96          0.0             0.0          0.0           0.0  ...   \n",
            "97          0.0             0.0          0.0           0.0  ...   \n",
            "98          0.0             0.0        100.0           0.0  ...   \n",
            "99          0.0             0.0       1190.0           0.0  ...   \n",
            "\n",
            "    Neighbour_NVC2016_mode  Neighbour_NVC2016_count  Neighbour_NVC2016_mean   \n",
            "0                   7200.0                      169               6111.3906  \\\n",
            "1                   7200.0                      169               6111.3906   \n",
            "2                   7200.0                      169               6111.3906   \n",
            "3                   7200.0                      169               6111.3906   \n",
            "4                   6308.0                      169               6113.2900   \n",
            "..                     ...                      ...                     ...   \n",
            "95                  9301.0                      169               8024.9053   \n",
            "96                  7913.0                      156               7967.9680   \n",
            "97                  9301.0                      156               8798.4360   \n",
            "98                  6331.0                      156               7977.9165   \n",
            "99                  6331.0                      156               7824.9040   \n",
            "\n",
            "    Neighbour_SLP2016_max  Neighbour_SLP2016_min  Neighbour_SLP2016_median   \n",
            "0                    37.0                    3.0                      17.0  \\\n",
            "1                    37.0                    3.0                      17.0   \n",
            "2                    37.0                    3.0                      17.0   \n",
            "3                    37.0                    3.0                      17.0   \n",
            "4                    35.0                    4.0                      25.0   \n",
            "..                    ...                    ...                       ...   \n",
            "95                    3.0                    0.0                       1.0   \n",
            "96                    1.0                    0.0                       0.0   \n",
            "97                    3.0                    0.0                       1.0   \n",
            "98                    7.0                    0.0                       1.0   \n",
            "99                    1.0                    0.0                       0.0   \n",
            "\n",
            "    Neighbour_SLP2016_sum  Neighbour_SLP2016_mode  Neighbour_SLP2016_count   \n",
            "0                  3109.0                    24.0                      169  \\\n",
            "1                  3109.0                    24.0                      169   \n",
            "2                  3109.0                    24.0                      169   \n",
            "3                  3109.0                    24.0                      169   \n",
            "4                  3951.0                    24.0                      169   \n",
            "..                    ...                     ...                      ...   \n",
            "95                  129.0                     0.0                      169   \n",
            "96                   28.0                     0.0                      156   \n",
            "97                  193.0                     0.0                      156   \n",
            "98                  247.0                     0.0                      156   \n",
            "99                   63.0                     0.0                      156   \n",
            "\n",
            "    Neighbour_SLP2016_mean  \n",
            "0                18.396450  \n",
            "1                18.396450  \n",
            "2                18.396450  \n",
            "3                18.396450  \n",
            "4                23.378698  \n",
            "..                     ...  \n",
            "95                0.763314  \n",
            "96                0.179487  \n",
            "97                1.237180  \n",
            "98                1.583333  \n",
            "99                0.403846  \n",
            "\n",
            "[100 rows x 397 columns]\n"
          ]
        }
      ]
    }
  ]
}