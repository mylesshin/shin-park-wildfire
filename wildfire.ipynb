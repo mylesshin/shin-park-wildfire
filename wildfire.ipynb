{
  "nbformat": 4,
  "nbformat_minor": 0,
  "metadata": {
    "colab": {
      "provenance": [],
      "authorship_tag": "ABX9TyNFIQwsVBlSXKd6YnxaWtez",
      "include_colab_link": true
    },
    "kernelspec": {
      "name": "python3",
      "display_name": "Python 3"
    },
    "language_info": {
      "name": "python"
    }
  },
  "cells": [
    {
      "cell_type": "markdown",
      "metadata": {
        "id": "view-in-github",
        "colab_type": "text"
      },
      "source": [
        "<a href=\"https://colab.research.google.com/github/mylesshin/shin-park-wildfire/blob/main/wildfire.ipynb\" target=\"_parent\"><img src=\"https://colab.research.google.com/assets/colab-badge.svg\" alt=\"Open In Colab\"/></a>"
      ]
    },
    {
      "cell_type": "code",
      "execution_count": 19,
      "metadata": {
        "colab": {
          "base_uri": "https://localhost:8080/"
        },
        "id": "vyQH1D9nq3s3",
        "outputId": "13ba11d9-94d9-41cc-dfba-b2c50f0eac37"
      },
      "outputs": [
        {
          "output_type": "stream",
          "name": "stdout",
          "text": [
            "Requirement already satisfied: pyarrow in ./big_data_env/lib/python3.10/site-packages (11.0.0)\r\n",
            "Requirement already satisfied: numpy>=1.16.6 in ./big_data_env/lib/python3.10/site-packages (from pyarrow) (1.24.3)\r\n",
            "Note: you may need to restart the kernel to use updated packages.\n"
          ]
        }
      ],
      "source": [
        "pip install pyarrow"
      ]
    },
    {
      "cell_type": "code",
      "source": [
        "import pandas as pd\n",
        "\n",
        "#df = pd.read_csv(\"wildfiredb.csv\")\n",
        "\n",
        "#df_corr = df[[\"Neighbor Slope max.\", \"Neighbor Slope min.\", \"Neighbor Slope median\", \"Neighbor Slope sum\", \"Neighbor Slope mode\", \"Neighbor Slope count\", \"Neighbor Slope mean\", \"Weather\"]]\n",
        "\n",
        "#df_corr.corr()"
      ],
      "metadata": {
        "id": "-yX-VPV9sBAE"
      },
      "execution_count": 20,
      "outputs": []
    },
    {
      "cell_type": "code",
      "source": [
        "!wget https://big-data-final-project.s3.amazonaws.com/wildfiredb.csv\n"
      ],
      "metadata": {
        "id": "-vKYgGlq-cbG",
        "colab": {
          "base_uri": "https://localhost:8080/"
        },
        "outputId": "a17c8fa8-ed02-4df2-ef70-7f2040bca936"
      },
      "execution_count": null,
      "outputs": [
        {
          "output_type": "stream",
          "name": "stdout",
          "text": [
            "--2023-04-25 19:47:26--  https://big-data-final-project.s3.amazonaws.com/wildfiredb.csv\r\n",
            "Resolving big-data-final-project.s3.amazonaws.com (big-data-final-project.s3.amazonaws.com)... 52.217.18.212, 52.216.227.184, 3.5.9.108, ...\r\n",
            "Connecting to big-data-final-project.s3.amazonaws.com (big-data-final-project.s3.amazonaws.com)|52.217.18.212|:443... connected.\n",
            "HTTP request sent, awaiting response... 200 OK\n",
            "Length: 5688115791 (5.3G) [text/csv]\n",
            "Saving to: ‘wildfiredb.csv.1’\n",
            "\n",
            "wildfiredb.csv.1    100%[===================>]   5.30G  67.2MB/s    in 87s     \n",
            "\n",
            "2023-04-25 19:48:53 (62.4 MB/s) - ‘wildfiredb.csv.1’ saved [5688115791/5688115791]\n",
            "\n"
          ]
        }
      ]
    },
    {
      "cell_type": "code",
      "source": [
        "import pandas as pd\n",
        "\n",
        "# Define the file path\n",
        "file_path = 'wildfiredb.csv'\n",
        "\n",
        "# Read the first 10 rows of the CSV file using Pandas\n",
        "df = pd.read_csv(file_path, nrows=100)\n",
        "df = df.dropna()\n",
        "\n",
        "# Print the Pandas DataFrame\n",
        "print(df)\n",
        "\n",
        "\n"
      ],
      "metadata": {
        "id": "DLiJhVU5-iH0",
        "outputId": "4a65a5d5-d303-44e4-b969-c2b485ab4362",
        "colab": {
          "base_uri": "https://localhost:8080/"
        }
      },
      "execution_count": 26,
      "outputs": [
        {
          "output_type": "stream",
          "name": "stdout",
          "text": [
            "    Polygon_ID    acq_date   frp  Neighbour  Neighbour_frp  CBC2014_max   \n",
            "0         7234  2012-11-06   3.2       7233            0.0         13.0  \\\n",
            "1         7380  2012-11-06   5.1       7233            0.0        100.0   \n",
            "2         7381  2014-11-02   0.9       7233            0.0        100.0   \n",
            "3         7381  2012-11-06   3.2       7233            0.0        100.0   \n",
            "4        15290  2015-11-14  14.6      15437            0.0        100.0   \n",
            "..         ...         ...   ...        ...            ...          ...   \n",
            "95       65027  2015-03-01   4.9      65223            0.0          0.0   \n",
            "96       66037  2013-02-09   8.5      65840            0.0          0.0   \n",
            "97       67032  2013-11-07   3.1      66836            0.0          0.0   \n",
            "98       67029  2018-05-20   3.1      67028            0.0        100.0   \n",
            "99       69780  2014-04-28   3.9      69976            0.0        100.0   \n",
            "\n",
            "    CBC2014_min  CBC2014_median  CBC2014_sum  CBC2014_mode  ...   \n",
            "0           0.0             9.0       1303.0           0.0  ...  \\\n",
            "1           0.0             8.0       1457.0           0.0  ...   \n",
            "2           0.0             9.0       1448.0           0.0  ...   \n",
            "3           0.0             9.0       1448.0           0.0  ...   \n",
            "4           0.0             8.0       1262.0           0.0  ...   \n",
            "..          ...             ...          ...           ...  ...   \n",
            "95          0.0             0.0          0.0           0.0  ...   \n",
            "96          0.0             0.0          0.0           0.0  ...   \n",
            "97          0.0             0.0          0.0           0.0  ...   \n",
            "98          0.0             0.0        100.0           0.0  ...   \n",
            "99          0.0             0.0       1190.0           0.0  ...   \n",
            "\n",
            "    Neighbour_NVC2016_mode  Neighbour_NVC2016_count  Neighbour_NVC2016_mean   \n",
            "0                   7200.0                      169               6111.3906  \\\n",
            "1                   7200.0                      169               6111.3906   \n",
            "2                   7200.0                      169               6111.3906   \n",
            "3                   7200.0                      169               6111.3906   \n",
            "4                   6308.0                      169               6113.2900   \n",
            "..                     ...                      ...                     ...   \n",
            "95                  9301.0                      169               8024.9053   \n",
            "96                  7913.0                      156               7967.9680   \n",
            "97                  9301.0                      156               8798.4360   \n",
            "98                  6331.0                      156               7977.9165   \n",
            "99                  6331.0                      156               7824.9040   \n",
            "\n",
            "    Neighbour_SLP2016_max  Neighbour_SLP2016_min  Neighbour_SLP2016_median   \n",
            "0                    37.0                    3.0                      17.0  \\\n",
            "1                    37.0                    3.0                      17.0   \n",
            "2                    37.0                    3.0                      17.0   \n",
            "3                    37.0                    3.0                      17.0   \n",
            "4                    35.0                    4.0                      25.0   \n",
            "..                    ...                    ...                       ...   \n",
            "95                    3.0                    0.0                       1.0   \n",
            "96                    1.0                    0.0                       0.0   \n",
            "97                    3.0                    0.0                       1.0   \n",
            "98                    7.0                    0.0                       1.0   \n",
            "99                    1.0                    0.0                       0.0   \n",
            "\n",
            "    Neighbour_SLP2016_sum  Neighbour_SLP2016_mode  Neighbour_SLP2016_count   \n",
            "0                  3109.0                    24.0                      169  \\\n",
            "1                  3109.0                    24.0                      169   \n",
            "2                  3109.0                    24.0                      169   \n",
            "3                  3109.0                    24.0                      169   \n",
            "4                  3951.0                    24.0                      169   \n",
            "..                    ...                     ...                      ...   \n",
            "95                  129.0                     0.0                      169   \n",
            "96                   28.0                     0.0                      156   \n",
            "97                  193.0                     0.0                      156   \n",
            "98                  247.0                     0.0                      156   \n",
            "99                   63.0                     0.0                      156   \n",
            "\n",
            "    Neighbour_SLP2016_mean  \n",
            "0                18.396450  \n",
            "1                18.396450  \n",
            "2                18.396450  \n",
            "3                18.396450  \n",
            "4                23.378698  \n",
            "..                     ...  \n",
            "95                0.763314  \n",
            "96                0.179487  \n",
            "97                1.237180  \n",
            "98                1.583333  \n",
            "99                0.403846  \n",
            "\n",
            "[100 rows x 397 columns]\n"
          ]
        }
      ]
    },
    {
      "cell_type": "code",
      "source": [
        "# Define the file path\n",
        "file_path = 'wildfiredb.csv'\n",
        "\n",
        "# Read only the first row of the CSV file to extract the column names\n",
        "with open(file_path, 'r') as f:\n",
        "    column_names = pd.read_csv(f, nrows=1).columns\n",
        "\n",
        "# Print all the column names in one line\n",
        "print(', '.join(column_names))\n",
        "\n"
      ],
      "metadata": {
        "id": "I56dyEtZ_IZ5",
        "outputId": "8095cf7c-bd9c-4ef8-f28d-e487e070c0b3",
        "colab": {
          "base_uri": "https://localhost:8080/"
        }
      },
      "execution_count": 27,
      "outputs": [
        {
          "output_type": "stream",
          "name": "stdout",
          "text": [
            "Polygon_ID, acq_date, frp, Neighbour, Neighbour_frp, CBC2014_max, CBC2014_min, CBC2014_median, CBC2014_sum, CBC2014_mode, CBC2014_count, CBC2014_mean, CBD2012_max, CBD2012_min, CBD2012_median, CBD2012_sum, CBD2012_mode, CBD2012_count, CBD2012_mean, CBD2016_max, CBD2016_min, CBD2016_median, CBD2016_sum, CBD2016_mode, CBD2016_count, CBD2016_mean, CBH2012_max, CBH2012_min, CBH2012_median, CBH2012_sum, CBH2012_mode, CBH2012_count, CBH2012_mean, CBH2014_max, CBH2014_min, CBH2014_median, CBH2014_sum, CBH2014_mode, CBH2014_count, CBH2014_mean, CBH2016_max, CBH2016_min, CBH2016_median, CBH2016_sum, CBH2016_mode, CBH2016_count, CBH2016_mean, CC2012_max, CC2012_min, CC2012_median, CC2012_sum, CC2012_mode, CC2012_count, CC2012_mean, CC2014_max, CC2014_min, CC2014_median, CC2014_sum, CC2014_mode, CC2014_count, CC2014_mean, CC2016_max, CC2016_min, CC2016_median, CC2016_sum, CC2016_mode, CC2016_count, CC2016_mean, CH2012_max, CH2012_min, CH2012_median, CH2012_sum, CH2012_mode, CH2012_count, CH2012_mean, CH2014_max, CH2014_min, CH2014_median, CH2014_sum, CH2014_mode, CH2014_count, CH2014_mean, CH2016_max, CH2016_min, CH2016_median, CH2016_sum, CH2016_mode, CH2016_count, CH2016_mean, ELEV2016_max, ELEV2016_min, ELEV2016_median, ELEV2016_sum, ELEV2016_mode, ELEV2016_count, ELEV2016_mean, EVC2012_max, EVC2012_min, EVC2012_median, EVC2012_sum, EVC2012_mode, EVC2012_count, EVC2012_mean, EVC2014_max, EVC2014_min, EVC2014_median, EVC2014_sum, EVC2014_mode, EVC2014_count, EVC2014_mean, EVC2016_max, EVC2016_min, EVC2016_median, EVC2016_sum, EVC2016_mode, EVC2016_count, EVC2016_mean, EVH2012_max, EVH2012_min, EVH2012_median, EVH2012_sum, EVH2012_mode, EVH2012_count, EVH2012_mean, EVH2014_max, EVH2014_min, EVH2014_median, EVH2014_sum, EVH2014_mode, EVH2014_count, EVH2014_mean, EVH2016_max, EVH2016_min, EVH2016_median, EVH2016_sum, EVH2016_mode, EVH2016_count, EVH2016_mean, EVT2012_max, EVT2012_min, EVT2012_median, EVT2012_sum, EVT2012_mode, EVT2012_count, EVT2012_mean, EVT2014_max, EVT2014_min, EVT2014_median, EVT2014_sum, EVT2014_mode, EVT2014_count, EVT2014_mean, EVT2016_max, EVT2016_min, EVT2016_median, EVT2016_sum, EVT2016_mode, EVT2016_count, EVT2016_mean, FCCS2014_max, FCCS2014_min, FCCS2014_median, FCCS2014_sum, FCCS2014_mode, FCCS2014_count, FCCS2014_mean, FVC2016_max, FVC2016_min, FVC2016_median, FVC2016_sum, FVC2016_mode, FVC2016_count, FVC2016_mean, FVH2016_max, FVH2016_min, FVH2016_median, FVH2016_sum, FVH2016_mode, FVH2016_count, FVH2016_mean, FVT2016_max, FVT2016_min, FVT2016_median, FVT2016_sum, FVT2016_mode, FVT2016_count, FVT2016_mean, NVC2016_max, NVC2016_min, NVC2016_median, NVC2016_sum, NVC2016_mode, NVC2016_count, NVC2016_mean, SLP2016_max, SLP2016_min, SLP2016_median, SLP2016_sum, SLP2016_mode, SLP2016_count, SLP2016_mean, Neighbour_CBC2014_max, Neighbour_CBC2014_min, Neighbour_CBC2014_median, Neighbour_CBC2014_sum, Neighbour_CBC2014_mode, Neighbour_CBC2014_count, Neighbour_CBC2014_mean, Neighbour_CBD2012_max, Neighbour_CBD2012_min, Neighbour_CBD2012_median, Neighbour_CBD2012_sum, Neighbour_CBD2012_mode, Neighbour_CBD2012_count, Neighbour_CBD2012_mean, Neighbour_CBD2016_max, Neighbour_CBD2016_min, Neighbour_CBD2016_median, Neighbour_CBD2016_sum, Neighbour_CBD2016_mode, Neighbour_CBD2016_count, Neighbour_CBD2016_mean, Neighbour_CBH2012_max, Neighbour_CBH2012_min, Neighbour_CBH2012_median, Neighbour_CBH2012_sum, Neighbour_CBH2012_mode, Neighbour_CBH2012_count, Neighbour_CBH2012_mean, Neighbour_CBH2014_max, Neighbour_CBH2014_min, Neighbour_CBH2014_median, Neighbour_CBH2014_sum, Neighbour_CBH2014_mode, Neighbour_CBH2014_count, Neighbour_CBH2014_mean, Neighbour_CBH2016_max, Neighbour_CBH2016_min, Neighbour_CBH2016_median, Neighbour_CBH2016_sum, Neighbour_CBH2016_mode, Neighbour_CBH2016_count, Neighbour_CBH2016_mean, Neighbour_CC2012_max, Neighbour_CC2012_min, Neighbour_CC2012_median, Neighbour_CC2012_sum, Neighbour_CC2012_mode, Neighbour_CC2012_count, Neighbour_CC2012_mean, Neighbour_CC2014_max, Neighbour_CC2014_min, Neighbour_CC2014_median, Neighbour_CC2014_sum, Neighbour_CC2014_mode, Neighbour_CC2014_count, Neighbour_CC2014_mean, Neighbour_CC2016_max, Neighbour_CC2016_min, Neighbour_CC2016_median, Neighbour_CC2016_sum, Neighbour_CC2016_mode, Neighbour_CC2016_count, Neighbour_CC2016_mean, Neighbour_CH2012_max, Neighbour_CH2012_min, Neighbour_CH2012_median, Neighbour_CH2012_sum, Neighbour_CH2012_mode, Neighbour_CH2012_count, Neighbour_CH2012_mean, Neighbour_CH2014_max, Neighbour_CH2014_min, Neighbour_CH2014_median, Neighbour_CH2014_sum, Neighbour_CH2014_mode, Neighbour_CH2014_count, Neighbour_CH2014_mean, Neighbour_CH2016_max, Neighbour_CH2016_min, Neighbour_CH2016_median, Neighbour_CH2016_sum, Neighbour_CH2016_mode, Neighbour_CH2016_count, Neighbour_CH2016_mean, Neighbour_ELEV2016_max, Neighbour_ELEV2016_min, Neighbour_ELEV2016_median, Neighbour_ELEV2016_sum, Neighbour_ELEV2016_mode, Neighbour_ELEV2016_count, Neighbour_ELEV2016_mean, Neighbour_EVC2012_max, Neighbour_EVC2012_min, Neighbour_EVC2012_median, Neighbour_EVC2012_sum, Neighbour_EVC2012_mode, Neighbour_EVC2012_count, Neighbour_EVC2012_mean, Neighbour_EVC2014_max, Neighbour_EVC2014_min, Neighbour_EVC2014_median, Neighbour_EVC2014_sum, Neighbour_EVC2014_mode, Neighbour_EVC2014_count, Neighbour_EVC2014_mean, Neighbour_EVC2016_max, Neighbour_EVC2016_min, Neighbour_EVC2016_median, Neighbour_EVC2016_sum, Neighbour_EVC2016_mode, Neighbour_EVC2016_count, Neighbour_EVC2016_mean, Neighbour_EVH2012_max, Neighbour_EVH2012_min, Neighbour_EVH2012_median, Neighbour_EVH2012_sum, Neighbour_EVH2012_mode, Neighbour_EVH2012_count, Neighbour_EVH2012_mean, Neighbour_EVH2014_max, Neighbour_EVH2014_min, Neighbour_EVH2014_median, Neighbour_EVH2014_sum, Neighbour_EVH2014_mode, Neighbour_EVH2014_count, Neighbour_EVH2014_mean, Neighbour_EVH2016_max, Neighbour_EVH2016_min, Neighbour_EVH2016_median, Neighbour_EVH2016_sum, Neighbour_EVH2016_mode, Neighbour_EVH2016_count, Neighbour_EVH2016_mean, Neighbour_EVT2012_max, Neighbour_EVT2012_min, Neighbour_EVT2012_median, Neighbour_EVT2012_sum, Neighbour_EVT2012_mode, Neighbour_EVT2012_count, Neighbour_EVT2012_mean, Neighbour_EVT2014_max, Neighbour_EVT2014_min, Neighbour_EVT2014_median, Neighbour_EVT2014_sum, Neighbour_EVT2014_mode, Neighbour_EVT2014_count, Neighbour_EVT2014_mean, Neighbour_EVT2016_max, Neighbour_EVT2016_min, Neighbour_EVT2016_median, Neighbour_EVT2016_sum, Neighbour_EVT2016_mode, Neighbour_EVT2016_count, Neighbour_EVT2016_mean, Neighbour_FCCS2014_max, Neighbour_FCCS2014_min, Neighbour_FCCS2014_median, Neighbour_FCCS2014_sum, Neighbour_FCCS2014_mode, Neighbour_FCCS2014_count, Neighbour_FCCS2014_mean, Neighbour_FVC2016_max, Neighbour_FVC2016_min, Neighbour_FVC2016_median, Neighbour_FVC2016_sum, Neighbour_FVC2016_mode, Neighbour_FVC2016_count, Neighbour_FVC2016_mean, Neighbour_FVH2016_max, Neighbour_FVH2016_min, Neighbour_FVH2016_median, Neighbour_FVH2016_sum, Neighbour_FVH2016_mode, Neighbour_FVH2016_count, Neighbour_FVH2016_mean, Neighbour_FVT2016_max, Neighbour_FVT2016_min, Neighbour_FVT2016_median, Neighbour_FVT2016_sum, Neighbour_FVT2016_mode, Neighbour_FVT2016_count, Neighbour_FVT2016_mean, Neighbour_NVC2016_max, Neighbour_NVC2016_min, Neighbour_NVC2016_median, Neighbour_NVC2016_sum, Neighbour_NVC2016_mode, Neighbour_NVC2016_count, Neighbour_NVC2016_mean, Neighbour_SLP2016_max, Neighbour_SLP2016_min, Neighbour_SLP2016_median, Neighbour_SLP2016_sum, Neighbour_SLP2016_mode, Neighbour_SLP2016_count, Neighbour_SLP2016_mean\n"
          ]
        }
      ]
    },
    {
      "cell_type": "code",
      "source": [
        "#FRP, ELEV2016_mean, Neighbour_frp, CBD2016_mean, EVC2016_mean, EVH2016_mean, EVT2016_mean, SLP2016_mean"
      ],
      "metadata": {
        "id": "oCT5i1TCBfSZ"
      },
      "execution_count": null,
      "outputs": []
    },
    {
      "cell_type": "code",
      "source": [
        "# Find the correlation between frp and elev2016_mean\n",
        "correlation = df['frp'].corr(df['ELEV2016_mean'])\n",
        "\n",
        "# Print the correlation\n",
        "print(correlation)"
      ],
      "metadata": {
        "id": "KTbitG6vFVM7",
        "outputId": "8014929b-bff2-44fd-ef70-42aef2f6179c",
        "colab": {
          "base_uri": "https://localhost:8080/"
        }
      },
      "execution_count": 23,
      "outputs": [
        {
          "output_type": "stream",
          "name": "stdout",
          "text": [
            "-0.12241346905517518\n"
          ]
        }
      ]
    },
    {
      "cell_type": "code",
      "source": [
        "# Find the correlation between frp and elev2016_mean\n",
        "correlation = df['frp'].corr(df['SLP2016_mean'])\n",
        "\n",
        "# Print the correlation\n",
        "print(correlation)"
      ],
      "metadata": {
        "id": "9SxrzsbtFhu8",
        "outputId": "49ae5103-eb27-4a99-df5c-a9c320f81fb4",
        "colab": {
          "base_uri": "https://localhost:8080/"
        }
      },
      "execution_count": 35,
      "outputs": [
        {
          "output_type": "stream",
          "name": "stdout",
          "text": [
            "-0.12425245943926372\n"
          ]
        }
      ]
    },
    {
      "cell_type": "code",
      "source": [
        "# Find the correlation between frp and elev2016_mean\n",
        "correlation = df['frp'].corr(df['EVC2016_mean'])\n",
        "\n",
        "# Print the correlation\n",
        "print(correlation)"
      ],
      "metadata": {
        "id": "F41blhr_F33i",
        "outputId": "2762392f-1517-442a-951c-470ff4c610b6",
        "colab": {
          "base_uri": "https://localhost:8080/"
        }
      },
      "execution_count": 30,
      "outputs": [
        {
          "output_type": "stream",
          "name": "stdout",
          "text": [
            "0.004919770139695976\n"
          ]
        }
      ]
    },
    {
      "cell_type": "code",
      "source": [
        "# Find the correlation between frp and elev2016_mean\n",
        "correlation = df['frp'].corr(df['EVH2016_mean'])\n",
        "\n",
        "# Print the correlation\n",
        "print(correlation)"
      ],
      "metadata": {
        "id": "2u6fHAv_HFHN",
        "outputId": "e3522c42-c710-4092-e75b-876bc9025515",
        "colab": {
          "base_uri": "https://localhost:8080/"
        }
      },
      "execution_count": 31,
      "outputs": [
        {
          "output_type": "stream",
          "name": "stdout",
          "text": [
            "0.009559370107720306\n"
          ]
        }
      ]
    },
    {
      "cell_type": "code",
      "source": [
        "# Find the correlation between frp and elev2016_mean\n",
        "correlation = df['frp'].corr(df['EVT2016_mean'])\n",
        "\n",
        "# Print the correlation\n",
        "print(correlation)"
      ],
      "metadata": {
        "id": "RMx75dF-HH9r",
        "outputId": "a8643f2e-4b2a-44ab-f137-466d75949808",
        "colab": {
          "base_uri": "https://localhost:8080/"
        }
      },
      "execution_count": 32,
      "outputs": [
        {
          "output_type": "stream",
          "name": "stdout",
          "text": [
            "0.13195116352924482\n"
          ]
        }
      ]
    }
  ]
}