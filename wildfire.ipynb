{
  "nbformat": 4,
  "nbformat_minor": 0,
  "metadata": {
    "colab": {
      "provenance": [],
      "authorship_tag": "ABX9TyMRZ+QlH10+JtlhBkeVs2b5",
      "include_colab_link": true
    },
    "kernelspec": {
      "name": "python3",
      "display_name": "Python 3"
    },
    "language_info": {
      "name": "python"
    }
  },
  "cells": [
    {
      "cell_type": "markdown",
      "metadata": {
        "id": "view-in-github",
        "colab_type": "text"
      },
      "source": [
        "<a href=\"https://colab.research.google.com/github/mylesshin/shin-park-wildfire/blob/main/wildfire.ipynb\" target=\"_parent\"><img src=\"https://colab.research.google.com/assets/colab-badge.svg\" alt=\"Open In Colab\"/></a>"
      ]
    },
    {
      "cell_type": "code",
      "execution_count": 1,
      "metadata": {
        "colab": {
          "base_uri": "https://localhost:8080/"
        },
        "id": "vyQH1D9nq3s3",
        "outputId": "701f45ee-19bc-4bfd-efb8-82c447c81562"
      },
      "outputs": [
        {
          "output_type": "stream",
          "name": "stdout",
          "text": [
            "Requirement already satisfied: pyarrow in ./big_data_env/lib/python3.10/site-packages (11.0.0)\r\n",
            "Requirement already satisfied: numpy>=1.16.6 in ./big_data_env/lib/python3.10/site-packages (from pyarrow) (1.24.3)\r\n",
            "Note: you may need to restart the kernel to use updated packages.\n"
          ]
        }
      ],
      "source": [
        "pip install pyarrow"
      ]
    },
    {
      "cell_type": "code",
      "source": [
        "import pandas as pd\n",
        "\n",
        "#df = pd.read_csv(\"wildfiredb.csv\")\n",
        "\n",
        "#df_corr = df[[\"Neighbor Slope max.\", \"Neighbor Slope min.\", \"Neighbor Slope median\", \"Neighbor Slope sum\", \"Neighbor Slope mode\", \"Neighbor Slope count\", \"Neighbor Slope mean\", \"Weather\"]]\n",
        "\n",
        "#df_corr.corr()"
      ],
      "metadata": {
        "id": "-yX-VPV9sBAE"
      },
      "execution_count": 2,
      "outputs": []
    },
    {
      "cell_type": "code",
      "source": [],
      "metadata": {
        "id": "TJPpaJup3liK"
      },
      "execution_count": null,
      "outputs": []
    },
    {
      "cell_type": "code",
      "source": [
        "!wget https://big-data-final-project.s3.amazonaws.com/wildfiredb.csv\n",
        "\n"
      ],
      "metadata": {
        "colab": {
          "base_uri": "https://localhost:8080/"
        },
        "id": "Bd5EHb4JxwEX",
        "outputId": "63d5956f-2f3a-4220-8190-e55c6f3d6b4f"
      },
      "execution_count": 30,
      "outputs": [
        {
          "output_type": "stream",
          "name": "stdout",
          "text": [
            "--2023-04-25 19:32:22--  https://big-data-final-project.s3.amazonaws.com/wildfiredb.csv\r\n",
            "Resolving big-data-final-project.s3.amazonaws.com (big-data-final-project.s3.amazonaws.com)... 52.217.50.4, 3.5.20.158, 3.5.29.200, ...\r\n",
            "Connecting to big-data-final-project.s3.amazonaws.com (big-data-final-project.s3.amazonaws.com)|52.217.50.4|:443... connected.\n",
            "HTTP request sent, awaiting response... 200 OK\n",
            "Length: 5688115791 (5.3G) [text/csv]\n",
            "Saving to: ‘wildfiredb.csv’\n",
            "\n",
            "wildfiredb.csv      100%[===================>]   5.30G  64.1MB/s    in 87s     \n",
            "\n",
            "2023-04-25 19:33:49 (62.1 MB/s) - ‘wildfiredb.csv’ saved [5688115791/5688115791]\n",
            "\n"
          ]
        }
      ]
    }
  ]
}